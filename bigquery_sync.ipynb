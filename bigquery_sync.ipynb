{
 "cells": [
  {
   "cell_type": "code",
   "execution_count": null,
   "id": "b4a52dfd",
   "metadata": {},
   "outputs": [],
   "source": [
    "!pip install duckdb pandas --quiet"
   ]
  },
  {
   "cell_type": "code",
   "execution_count": 1,
   "id": "77d794ae",
   "metadata": {},
   "outputs": [],
   "source": [
    "import json\n",
    "import sys\n",
    "import duckdb\n",
    "import pandas as pd\n",
    "from pathlib import Path\n",
    "from google.cloud import bigquery"
   ]
  },
  {
   "cell_type": "code",
   "execution_count": 3,
   "id": "82bba3a2",
   "metadata": {},
   "outputs": [
    {
     "name": "stdout",
     "output_type": "stream",
     "text": [
      "Your browser has been opened to visit:\n",
      "\n",
      "    https://accounts.google.com/o/oauth2/auth?response_type=code&client_id=764086051850-6qr4p6gpi6hn506pt8ejuq83di341hur.apps.googleusercontent.com&redirect_uri=http%3A%2F%2Flocalhost%3A8085%2F&scope=openid+https%3A%2F%2Fwww.googleapis.com%2Fauth%2Fuserinfo.email+https%3A%2F%2Fwww.googleapis.com%2Fauth%2Fcloud-platform+https%3A%2F%2Fwww.googleapis.com%2Fauth%2Fsqlservice.login&state=dOwXAuNBbLhneLZAy97wTVGya9FOcl&access_type=offline&code_challenge=pGBA7NakFPyoEEelJsejVs_i6bzFauJ2-M5JJbAdAyE&code_challenge_method=S256\n",
      "\n",
      "\n",
      "Credentials saved to file: [/Users/edshow/.config/gcloud/application_default_credentials.json]\n",
      "\n",
      "These credentials will be used by any library that requests Application Default Credentials (ADC).\n",
      "\n",
      "Quota project \"site-hypr\" was added to ADC which can be used by Google client libraries for billing and quota. Note that some services may still bill the project owning the resource.\n",
      "\n",
      "\n",
      "Updates are available for some Google Cloud CLI components.  To install them,\n",
      "please run:\n",
      "  $ gcloud components update\n",
      "\n",
      "\n",
      "\n",
      "To take a quick anonymous survey, run:\n",
      "  $ gcloud survey\n",
      "\n"
     ]
    }
   ],
   "source": [
    "!gcloud auth application-default login"
   ]
  },
  {
   "cell_type": "code",
   "execution_count": 6,
   "id": "9b885a5a",
   "metadata": {},
   "outputs": [],
   "source": [
    "bq_client = bigquery.Client()"
   ]
  },
  {
   "cell_type": "code",
   "execution_count": 7,
   "id": "fc418afb",
   "metadata": {},
   "outputs": [],
   "source": [
    "duckdb_conn = duckdb.connect(database=':memory:')"
   ]
  },
  {
   "cell_type": "code",
   "execution_count": 8,
   "id": "f5fa37bd",
   "metadata": {},
   "outputs": [],
   "source": [
    "base_dirs = [\n",
    "    '/Users/edshow/Downloads/tokens_sat_20250704_0-responses-20250707-1-tdfai37',\n",
    "    '/Users/edshow/Downloads/tokens_sat_20250704_1-responses-20250707-1-8gsaoe',\n",
    "    '/Users/edshow/Downloads/tokens_sat_20250704_2-responses-20250707-1-wim0bw',\n",
    "    '/Users/edshow/Downloads/tokens_sat_20250704_3-responses-20250707-1-m3smkk',\n",
    "]"
   ]
  },
  {
   "cell_type": "code",
   "execution_count": 9,
   "id": "bb9d4380",
   "metadata": {},
   "outputs": [],
   "source": [
    "all_json_files = [\n",
    "    str(p) for base in base_dirs for p in Path(base).glob(\"*.json\")\n",
    "]"
   ]
  },
  {
   "cell_type": "code",
   "execution_count": 9,
   "id": "c4578e00",
   "metadata": {},
   "outputs": [],
   "source": [
    "nfe_dfs = []\n",
    "for file in nfe_file_list:\n",
    "    tmp = pd.read_json(file, lines=True)\n",
    "    tmp['token'] = tmp['header'].apply(lambda x: x['parameters']['nfce'])\n",
    "    nfe_dfs.append(tmp)"
   ]
  },
  {
   "cell_type": "code",
   "execution_count": 10,
   "id": "bf07a23c",
   "metadata": {},
   "outputs": [],
   "source": [
    "sat_dfs = []\n",
    "for file in all_json_files:\n",
    "    tmp = pd.read_json(file, lines=True)\n",
    "    tmp['token'] = tmp['header'].apply(lambda x: x['parameters']['chave'])\n",
    "    sat_dfs.append(tmp)"
   ]
  },
  {
   "cell_type": "code",
   "execution_count": 11,
   "id": "32a65159",
   "metadata": {},
   "outputs": [
    {
     "ename": "NameError",
     "evalue": "name 'nfe_dfs' is not defined",
     "output_type": "error",
     "traceback": [
      "\u001b[0;31m---------------------------------------------------------------------------\u001b[0m",
      "\u001b[0;31mNameError\u001b[0m                                 Traceback (most recent call last)",
      "Cell \u001b[0;32mIn[11], line 1\u001b[0m\n\u001b[0;32m----> 1\u001b[0m agg_nfe_df \u001b[38;5;241m=\u001b[39m pd\u001b[38;5;241m.\u001b[39mconcat(\u001b[43mnfe_dfs\u001b[49m, ignore_index\u001b[38;5;241m=\u001b[39m\u001b[38;5;28;01mTrue\u001b[39;00m)\n\u001b[1;32m      2\u001b[0m agg_sat_df \u001b[38;5;241m=\u001b[39m pd\u001b[38;5;241m.\u001b[39mconcat(sat_dfs, ignore_index\u001b[38;5;241m=\u001b[39m\u001b[38;5;28;01mTrue\u001b[39;00m)\n\u001b[1;32m      3\u001b[0m agg_df \u001b[38;5;241m=\u001b[39m pd\u001b[38;5;241m.\u001b[39mconcat([agg_nfe_df, agg_sat_df], ignore_index\u001b[38;5;241m=\u001b[39m\u001b[38;5;28;01mTrue\u001b[39;00m)\n",
      "\u001b[0;31mNameError\u001b[0m: name 'nfe_dfs' is not defined"
     ]
    }
   ],
   "source": [
    "agg_nfe_df = pd.concat(nfe_dfs, ignore_index=True)\n",
    "agg_sat_df = pd.concat(sat_dfs, ignore_index=True)\n",
    "agg_df = pd.concat([agg_nfe_df, agg_sat_df], ignore_index=True)\n",
    "agg_df['full_json'] = agg_df.apply(lambda row: json.dumps(row.to_dict(), ensure_ascii=False), axis=1)\n",
    "agg_df = agg_df[['token', 'full_json']]\n",
    "agg_df.columns = ['token', 'data']\n",
    "agg_df.head()\n"
   ]
  },
  {
   "cell_type": "code",
   "execution_count": 12,
   "id": "0d4345f6",
   "metadata": {},
   "outputs": [
    {
     "data": {
      "text/html": [
       "<div>\n",
       "<style scoped>\n",
       "    .dataframe tbody tr th:only-of-type {\n",
       "        vertical-align: middle;\n",
       "    }\n",
       "\n",
       "    .dataframe tbody tr th {\n",
       "        vertical-align: top;\n",
       "    }\n",
       "\n",
       "    .dataframe thead th {\n",
       "        text-align: right;\n",
       "    }\n",
       "</style>\n",
       "<table border=\"1\" class=\"dataframe\">\n",
       "  <thead>\n",
       "    <tr style=\"text-align: right;\">\n",
       "      <th></th>\n",
       "      <th>token</th>\n",
       "      <th>data</th>\n",
       "    </tr>\n",
       "  </thead>\n",
       "  <tbody>\n",
       "    <tr>\n",
       "      <th>0</th>\n",
       "      <td>35250442591651032428590006754311646667978510</td>\n",
       "      <td>{\"code\": 200, \"code_message\": \"A requisição fo...</td>\n",
       "    </tr>\n",
       "    <tr>\n",
       "      <th>1</th>\n",
       "      <td>35250342591651256458590012126590353664220000</td>\n",
       "      <td>{\"code\": 605, \"code_message\": \"A consulta não ...</td>\n",
       "    </tr>\n",
       "    <tr>\n",
       "      <th>2</th>\n",
       "      <td>35250342591651090460590011211571371966937950</td>\n",
       "      <td>{\"code\": 605, \"code_message\": \"A consulta não ...</td>\n",
       "    </tr>\n",
       "    <tr>\n",
       "      <th>3</th>\n",
       "      <td>35250261412110045841650530000497301824357569</td>\n",
       "      <td>{\"code\": 608, \"code_message\": \"Os parâmetros f...</td>\n",
       "    </tr>\n",
       "    <tr>\n",
       "      <th>4</th>\n",
       "      <td>35250342591651019405590014550610208542393699</td>\n",
       "      <td>{\"code\": 605, \"code_message\": \"A consulta não ...</td>\n",
       "    </tr>\n",
       "  </tbody>\n",
       "</table>\n",
       "</div>"
      ],
      "text/plain": [
       "                                          token  \\\n",
       "0  35250442591651032428590006754311646667978510   \n",
       "1  35250342591651256458590012126590353664220000   \n",
       "2  35250342591651090460590011211571371966937950   \n",
       "3  35250261412110045841650530000497301824357569   \n",
       "4  35250342591651019405590014550610208542393699   \n",
       "\n",
       "                                                data  \n",
       "0  {\"code\": 200, \"code_message\": \"A requisição fo...  \n",
       "1  {\"code\": 605, \"code_message\": \"A consulta não ...  \n",
       "2  {\"code\": 605, \"code_message\": \"A consulta não ...  \n",
       "3  {\"code\": 608, \"code_message\": \"Os parâmetros f...  \n",
       "4  {\"code\": 605, \"code_message\": \"A consulta não ...  "
      ]
     },
     "execution_count": 12,
     "metadata": {},
     "output_type": "execute_result"
    }
   ],
   "source": [
    "agg_sat_df = pd.concat(sat_dfs, ignore_index=True)\n",
    "agg_sat_df['full_json'] =agg_sat_df.apply(lambda row: json.dumps(row.to_dict(), ensure_ascii=False), axis=1)\n",
    "agg_sat_df = agg_sat_df[['token', 'full_json']]\n",
    "agg_sat_df.columns = ['token', 'data']\n",
    "agg_sat_df.head()\n"
   ]
  },
  {
   "cell_type": "code",
   "execution_count": 17,
   "id": "3c3b9ea4",
   "metadata": {},
   "outputs": [
    {
     "data": {
      "text/html": [
       "<div>\n",
       "<style scoped>\n",
       "    .dataframe tbody tr th:only-of-type {\n",
       "        vertical-align: middle;\n",
       "    }\n",
       "\n",
       "    .dataframe tbody tr th {\n",
       "        vertical-align: top;\n",
       "    }\n",
       "\n",
       "    .dataframe thead th {\n",
       "        text-align: right;\n",
       "    }\n",
       "</style>\n",
       "<table border=\"1\" class=\"dataframe\">\n",
       "  <thead>\n",
       "    <tr style=\"text-align: right;\">\n",
       "      <th></th>\n",
       "      <th>code</th>\n",
       "      <th>distinct_token_count</th>\n",
       "      <th>percent</th>\n",
       "    </tr>\n",
       "  </thead>\n",
       "  <tbody>\n",
       "    <tr>\n",
       "      <th>0</th>\n",
       "      <td>200</td>\n",
       "      <td>49234</td>\n",
       "      <td>41.25</td>\n",
       "    </tr>\n",
       "    <tr>\n",
       "      <th>1</th>\n",
       "      <td>605</td>\n",
       "      <td>51710</td>\n",
       "      <td>43.32</td>\n",
       "    </tr>\n",
       "    <tr>\n",
       "      <th>2</th>\n",
       "      <td>608</td>\n",
       "      <td>18421</td>\n",
       "      <td>15.43</td>\n",
       "    </tr>\n",
       "  </tbody>\n",
       "</table>\n",
       "</div>"
      ],
      "text/plain": [
       "   code  distinct_token_count  percent\n",
       "0   200                 49234    41.25\n",
       "1   605                 51710    43.32\n",
       "2   608                 18421    15.43"
      ]
     },
     "execution_count": 17,
     "metadata": {},
     "output_type": "execute_result"
    }
   ],
   "source": [
    "tmp = agg_sat_df.copy()\n",
    "total = tmp[\"token\"].nunique()\n",
    "tmp[\"code\"] =tmp[\"data\"].apply(lambda x: json.loads(x)[\"code\"])\n",
    "tmp = tmp.groupby(\"code\")[\"token\"].nunique().reset_index(name=\"distinct_token_count\")\n",
    "tmp[\"percent\"] = (tmp[\"distinct_token_count\"] / total * 100).round(2)\n",
    "tmp"
   ]
  },
  {
   "cell_type": "code",
   "execution_count": 25,
   "id": "8d5c3f58",
   "metadata": {},
   "outputs": [],
   "source": [
    "from concurrent.futures import ThreadPoolExecutor, as_completed\n",
    "from datetime import datetime\n",
    "import pytz\n",
    "\n",
    "\n",
    "agg_df = agg_sat_df.copy()\n",
    "\n",
    "rows_to_insert = []\n",
    "\n",
    "for row in agg_df.itertuples():\n",
    "    try:\n",
    "        rows_to_insert.append({\n",
    "            \"token\": row.token,\n",
    "            \"moment\": datetime.now(pytz.timezone('America/Sao_Paulo')).isoformat(),\n",
    "            \"data\": row.data,\n",
    "            \"status\": 'PROCESSADO'\n",
    "        })\n",
    "    except Exception as e:\n",
    "        print(f\"Error for token {row.token}: {e}\")\n"
   ]
  },
  {
   "cell_type": "code",
   "execution_count": 26,
   "id": "5be68bd6",
   "metadata": {},
   "outputs": [],
   "source": [
    "BATCH_SIZE = 1000\n",
    "for i in range(0, len(rows_to_insert), BATCH_SIZE):\n",
    "    batch = rows_to_insert[i:i+BATCH_SIZE]\n",
    "    errors = bq_client.insert_rows_json('cashify-sx03a5.pubsub_messages.nfeasy_tokens_data', batch)\n",
    "    if errors:\n",
    "        print(f\"Errors in batch {i//BATCH_SIZE}: {errors}\")"
   ]
  },
  {
   "cell_type": "code",
   "execution_count": null,
   "id": "928a3ec9",
   "metadata": {},
   "outputs": [],
   "source": []
  }
 ],
 "metadata": {
  "kernelspec": {
   "display_name": "venv (3.9.12)",
   "language": "python",
   "name": "python3"
  },
  "language_info": {
   "codemirror_mode": {
    "name": "ipython",
    "version": 3
   },
   "file_extension": ".py",
   "mimetype": "text/x-python",
   "name": "python",
   "nbconvert_exporter": "python",
   "pygments_lexer": "ipython3",
   "version": "3.9.12"
  }
 },
 "nbformat": 4,
 "nbformat_minor": 5
}
