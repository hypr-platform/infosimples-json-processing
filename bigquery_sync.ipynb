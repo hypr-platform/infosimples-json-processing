{
 "cells": [
  {
   "cell_type": "code",
   "execution_count": 17,
   "id": "b4a52dfd",
   "metadata": {},
   "outputs": [],
   "source": [
    "!pip install duckdb pandas pytz google-cloud-bigquery --quiet"
   ]
  },
  {
   "cell_type": "code",
   "execution_count": 29,
   "id": "77d794ae",
   "metadata": {},
   "outputs": [],
   "source": [
    "import json\n",
    "import sys\n",
    "import duckdb\n",
    "import pytz\n",
    "import pandas as pd\n",
    "from pathlib import Path\n",
    "from datetime import datetime\n",
    "from google.cloud import bigquery\n",
    "from concurrent.futures import ThreadPoolExecutor, as_completed"
   ]
  },
  {
   "cell_type": "code",
   "execution_count": 30,
   "id": "82bba3a2",
   "metadata": {},
   "outputs": [
    {
     "name": "stdout",
     "output_type": "stream",
     "text": [
      "Your browser has been opened to visit:\n",
      "\n",
      "    https://accounts.google.com/o/oauth2/auth?response_type=code&client_id=764086051850-6qr4p6gpi6hn506pt8ejuq83di341hur.apps.googleusercontent.com&redirect_uri=http%3A%2F%2Flocalhost%3A8085%2F&scope=openid+https%3A%2F%2Fwww.googleapis.com%2Fauth%2Fuserinfo.email+https%3A%2F%2Fwww.googleapis.com%2Fauth%2Fcloud-platform+https%3A%2F%2Fwww.googleapis.com%2Fauth%2Fsqlservice.login&state=bDc4l05XTwWLNm8fZxVwh5B6HRG81f&access_type=offline&code_challenge=6JzvUPQrKmUMtnW6IElBr5JQMdgiF5A-UkF8u8Pg9K4&code_challenge_method=S256\n",
      "\n",
      "\n",
      "Credentials saved to file: [/Users/edshow/.config/gcloud/application_default_credentials.json]\n",
      "\n",
      "These credentials will be used by any library that requests Application Default Credentials (ADC).\n",
      "\n",
      "Quota project \"site-hypr\" was added to ADC which can be used by Google client libraries for billing and quota. Note that some services may still bill the project owning the resource.\n",
      "\n",
      "\n",
      "Updates are available for some Google Cloud CLI components.  To install them,\n",
      "please run:\n",
      "  $ gcloud components update\n",
      "\n",
      "\n",
      "\n",
      "To take a quick anonymous survey, run:\n",
      "  $ gcloud survey\n",
      "\n"
     ]
    }
   ],
   "source": [
    "!gcloud auth application-default login"
   ]
  },
  {
   "cell_type": "code",
   "execution_count": 31,
   "id": "9b885a5a",
   "metadata": {},
   "outputs": [],
   "source": [
    "bq_client = bigquery.Client()"
   ]
  },
  {
   "cell_type": "code",
   "execution_count": 32,
   "id": "fc418afb",
   "metadata": {},
   "outputs": [],
   "source": [
    "duckdb_conn = duckdb.connect(database=':memory:')"
   ]
  },
  {
   "cell_type": "code",
   "execution_count": 38,
   "id": "f5fa37bd",
   "metadata": {},
   "outputs": [],
   "source": [
    "base_dirs = [\n",
    "    '/Users/edshow/Downloads/NF_INFOSIMPLES_CARREFOUR_JUL_OUT-Primeiras25K-responses-20251021-1-dykznd'\n",
    "]"
   ]
  },
  {
   "cell_type": "code",
   "execution_count": 39,
   "id": "bb9d4380",
   "metadata": {},
   "outputs": [],
   "source": [
    "all_json_files = [\n",
    "    str(p) for base in base_dirs for p in Path(base).glob(\"*.json\")\n",
    "]"
   ]
  },
  {
   "cell_type": "code",
   "execution_count": 40,
   "id": "bf07a23c",
   "metadata": {},
   "outputs": [],
   "source": [
    "dfs = []\n",
    "for file in all_json_files:\n",
    "    tmp = pd.read_json(file, lines=True)\n",
    "    tmp['token'] = tmp['header'].apply(lambda x: x['parameters'].get('chave') or x['parameters'].get('nfce'))\n",
    "    dfs.append(tmp)"
   ]
  },
  {
   "cell_type": "code",
   "execution_count": 41,
   "id": "32a65159",
   "metadata": {},
   "outputs": [
    {
     "data": {
      "text/html": [
       "<div>\n",
       "<style scoped>\n",
       "    .dataframe tbody tr th:only-of-type {\n",
       "        vertical-align: middle;\n",
       "    }\n",
       "\n",
       "    .dataframe tbody tr th {\n",
       "        vertical-align: top;\n",
       "    }\n",
       "\n",
       "    .dataframe thead th {\n",
       "        text-align: right;\n",
       "    }\n",
       "</style>\n",
       "<table border=\"1\" class=\"dataframe\">\n",
       "  <thead>\n",
       "    <tr style=\"text-align: right;\">\n",
       "      <th></th>\n",
       "      <th>token</th>\n",
       "      <th>data</th>\n",
       "    </tr>\n",
       "  </thead>\n",
       "  <tbody>\n",
       "    <tr>\n",
       "      <th>0</th>\n",
       "      <td>35250645543915037930650070003146091114620340</td>\n",
       "      <td>{\"code\": 200, \"code_message\": \"A requisição fo...</td>\n",
       "    </tr>\n",
       "    <tr>\n",
       "      <th>1</th>\n",
       "      <td>35250645543915018129650090003758181696758743</td>\n",
       "      <td>{\"code\": 200, \"code_message\": \"A requisição fo...</td>\n",
       "    </tr>\n",
       "    <tr>\n",
       "      <th>2</th>\n",
       "      <td>35250645543915022231650090004139209599472007</td>\n",
       "      <td>{\"code\": 200, \"code_message\": \"A requisição fo...</td>\n",
       "    </tr>\n",
       "    <tr>\n",
       "      <th>3</th>\n",
       "      <td>35250645543915066107650030008484711233793763</td>\n",
       "      <td>{\"code\": 200, \"code_message\": \"A requisição fo...</td>\n",
       "    </tr>\n",
       "    <tr>\n",
       "      <th>4</th>\n",
       "      <td>35250645543915004500650700000308631608548560</td>\n",
       "      <td>{\"code\": 200, \"code_message\": \"A requisição fo...</td>\n",
       "    </tr>\n",
       "  </tbody>\n",
       "</table>\n",
       "</div>"
      ],
      "text/plain": [
       "                                          token  \\\n",
       "0  35250645543915037930650070003146091114620340   \n",
       "1  35250645543915018129650090003758181696758743   \n",
       "2  35250645543915022231650090004139209599472007   \n",
       "3  35250645543915066107650030008484711233793763   \n",
       "4  35250645543915004500650700000308631608548560   \n",
       "\n",
       "                                                data  \n",
       "0  {\"code\": 200, \"code_message\": \"A requisição fo...  \n",
       "1  {\"code\": 200, \"code_message\": \"A requisição fo...  \n",
       "2  {\"code\": 200, \"code_message\": \"A requisição fo...  \n",
       "3  {\"code\": 200, \"code_message\": \"A requisição fo...  \n",
       "4  {\"code\": 200, \"code_message\": \"A requisição fo...  "
      ]
     },
     "execution_count": 41,
     "metadata": {},
     "output_type": "execute_result"
    }
   ],
   "source": [
    "agg_df = pd.concat(dfs, ignore_index=True)\n",
    "agg_df['full_json'] = agg_df.apply(lambda row: json.dumps(row.to_dict(), ensure_ascii=False), axis=1)\n",
    "agg_df = agg_df[['token', 'full_json']]\n",
    "agg_df.columns = ['token', 'data']\n",
    "agg_df.head()\n"
   ]
  },
  {
   "cell_type": "code",
   "execution_count": 42,
   "id": "3c3b9ea4",
   "metadata": {},
   "outputs": [
    {
     "data": {
      "text/html": [
       "<div>\n",
       "<style scoped>\n",
       "    .dataframe tbody tr th:only-of-type {\n",
       "        vertical-align: middle;\n",
       "    }\n",
       "\n",
       "    .dataframe tbody tr th {\n",
       "        vertical-align: top;\n",
       "    }\n",
       "\n",
       "    .dataframe thead th {\n",
       "        text-align: right;\n",
       "    }\n",
       "</style>\n",
       "<table border=\"1\" class=\"dataframe\">\n",
       "  <thead>\n",
       "    <tr style=\"text-align: right;\">\n",
       "      <th></th>\n",
       "      <th>code</th>\n",
       "      <th>distinct_token_count</th>\n",
       "      <th>percent</th>\n",
       "    </tr>\n",
       "  </thead>\n",
       "  <tbody>\n",
       "    <tr>\n",
       "      <th>0</th>\n",
       "      <td>200</td>\n",
       "      <td>24996</td>\n",
       "      <td>99.98</td>\n",
       "    </tr>\n",
       "    <tr>\n",
       "      <th>1</th>\n",
       "      <td>608</td>\n",
       "      <td>2</td>\n",
       "      <td>0.01</td>\n",
       "    </tr>\n",
       "    <tr>\n",
       "      <th>2</th>\n",
       "      <td>612</td>\n",
       "      <td>2</td>\n",
       "      <td>0.01</td>\n",
       "    </tr>\n",
       "  </tbody>\n",
       "</table>\n",
       "</div>"
      ],
      "text/plain": [
       "   code  distinct_token_count  percent\n",
       "0   200                 24996    99.98\n",
       "1   608                     2     0.01\n",
       "2   612                     2     0.01"
      ]
     },
     "execution_count": 42,
     "metadata": {},
     "output_type": "execute_result"
    }
   ],
   "source": [
    "tmp = agg_df.copy()\n",
    "total = tmp[\"token\"].nunique()\n",
    "tmp[\"code\"] =tmp[\"data\"].apply(lambda x: json.loads(x)[\"code\"])\n",
    "tmp = tmp.groupby(\"code\")[\"token\"].nunique().reset_index(name=\"distinct_token_count\")\n",
    "tmp[\"percent\"] = (tmp[\"distinct_token_count\"] / total * 100).round(2)\n",
    "tmp"
   ]
  },
  {
   "cell_type": "code",
   "execution_count": 43,
   "id": "8d5c3f58",
   "metadata": {},
   "outputs": [],
   "source": [
    "agg_df = agg_df.copy()\n",
    "\n",
    "rows_to_insert = []\n",
    "\n",
    "for row in agg_df.itertuples():\n",
    "    try:\n",
    "        rows_to_insert.append({\n",
    "            \"token\": row.token,\n",
    "            \"moment\": datetime.now(pytz.timezone('America/Sao_Paulo')).isoformat(),\n",
    "            \"data\": row.data,\n",
    "            \"status\": 'PROCESSADO'\n",
    "        })\n",
    "    except Exception as e:\n",
    "        print(f\"Error for token {row.token}: {e}\")\n"
   ]
  },
  {
   "cell_type": "code",
   "execution_count": 44,
   "id": "5be68bd6",
   "metadata": {},
   "outputs": [],
   "source": [
    "BATCH_SIZE = 1000\n",
    "for i in range(0, len(rows_to_insert), BATCH_SIZE):\n",
    "    batch = rows_to_insert[i:i+BATCH_SIZE]\n",
    "    errors = bq_client.insert_rows_json('site-hypr.staging.fireho_processed_tokens', batch)\n",
    "    if errors:\n",
    "        print(f\"Errors in batch {i//BATCH_SIZE}: {errors}\")"
   ]
  },
  {
   "cell_type": "code",
   "execution_count": null,
   "id": "928a3ec9",
   "metadata": {},
   "outputs": [],
   "source": []
  }
 ],
 "metadata": {
  "kernelspec": {
   "display_name": "venv (3.13.7)",
   "language": "python",
   "name": "python3"
  },
  "language_info": {
   "codemirror_mode": {
    "name": "ipython",
    "version": 3
   },
   "file_extension": ".py",
   "mimetype": "text/x-python",
   "name": "python",
   "nbconvert_exporter": "python",
   "pygments_lexer": "ipython3",
   "version": "3.13.7"
  }
 },
 "nbformat": 4,
 "nbformat_minor": 5
}
